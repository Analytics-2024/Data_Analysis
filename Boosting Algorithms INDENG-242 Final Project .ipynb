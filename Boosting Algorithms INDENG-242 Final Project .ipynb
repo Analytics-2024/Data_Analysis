{
 "cells": [
  {
   "cell_type": "markdown",
   "metadata": {},
   "source": [
    "### Import Necessary Libraries"
   ]
  },
  {
   "cell_type": "code",
   "execution_count": 2,
   "metadata": {},
   "outputs": [],
   "source": [
    "import pandas as pd\n",
    "import numpy as np\n",
    "import datetime\n",
    "from datetime import date\n",
    "import matplotlib.pyplot as plt\n",
    "from sklearn.metrics import r2_score\n"
   ]
  },
  {
   "cell_type": "markdown",
   "metadata": {},
   "source": [
    "### Load Dataset"
   ]
  },
  {
   "cell_type": "code",
   "execution_count": 3,
   "metadata": {},
   "outputs": [],
   "source": [
    "stockx_data = pd.read_csv(\"stockx.csv\",index_col=0)"
   ]
  },
  {
   "cell_type": "code",
   "execution_count": 4,
   "metadata": {},
   "outputs": [
    {
     "data": {
      "text/html": [
       "<div>\n",
       "<style scoped>\n",
       "    .dataframe tbody tr th:only-of-type {\n",
       "        vertical-align: middle;\n",
       "    }\n",
       "\n",
       "    .dataframe tbody tr th {\n",
       "        vertical-align: top;\n",
       "    }\n",
       "\n",
       "    .dataframe thead th {\n",
       "        text-align: right;\n",
       "    }\n",
       "</style>\n",
       "<table border=\"1\" class=\"dataframe\">\n",
       "  <thead>\n",
       "    <tr style=\"text-align: right;\">\n",
       "      <th></th>\n",
       "      <th>Sale Price</th>\n",
       "      <th>Retail Price</th>\n",
       "      <th>Shoe Size</th>\n",
       "      <th>Price_Percentage_change</th>\n",
       "      <th>Days_Since_Release</th>\n",
       "      <th>yeezy</th>\n",
       "      <th>airjordan</th>\n",
       "      <th>airforce</th>\n",
       "      <th>airmax90</th>\n",
       "      <th>airmax97</th>\n",
       "      <th>...</th>\n",
       "      <th>Grey</th>\n",
       "      <th>Red</th>\n",
       "      <th>Green</th>\n",
       "      <th>Neo</th>\n",
       "      <th>Orange</th>\n",
       "      <th>Tan/Brown</th>\n",
       "      <th>Pink</th>\n",
       "      <th>Blue</th>\n",
       "      <th>Colorful</th>\n",
       "      <th>Number of Sales</th>\n",
       "    </tr>\n",
       "  </thead>\n",
       "  <tbody>\n",
       "    <tr>\n",
       "      <th>0</th>\n",
       "      <td>1097.0</td>\n",
       "      <td>220</td>\n",
       "      <td>11.0</td>\n",
       "      <td>3.986364</td>\n",
       "      <td>342.0</td>\n",
       "      <td>1</td>\n",
       "      <td>0</td>\n",
       "      <td>0</td>\n",
       "      <td>0</td>\n",
       "      <td>0</td>\n",
       "      <td>...</td>\n",
       "      <td>1.0</td>\n",
       "      <td>0.0</td>\n",
       "      <td>0.0</td>\n",
       "      <td>0.0</td>\n",
       "      <td>1.0</td>\n",
       "      <td>0.0</td>\n",
       "      <td>0.0</td>\n",
       "      <td>0.0</td>\n",
       "      <td>0.0</td>\n",
       "      <td>1857</td>\n",
       "    </tr>\n",
       "    <tr>\n",
       "      <th>1</th>\n",
       "      <td>685.0</td>\n",
       "      <td>220</td>\n",
       "      <td>11.0</td>\n",
       "      <td>2.113636</td>\n",
       "      <td>282.0</td>\n",
       "      <td>1</td>\n",
       "      <td>0</td>\n",
       "      <td>0</td>\n",
       "      <td>0</td>\n",
       "      <td>0</td>\n",
       "      <td>...</td>\n",
       "      <td>0.0</td>\n",
       "      <td>0.0</td>\n",
       "      <td>0.0</td>\n",
       "      <td>0.0</td>\n",
       "      <td>1.0</td>\n",
       "      <td>0.0</td>\n",
       "      <td>0.0</td>\n",
       "      <td>0.0</td>\n",
       "      <td>0.0</td>\n",
       "      <td>560</td>\n",
       "    </tr>\n",
       "    <tr>\n",
       "      <th>2</th>\n",
       "      <td>690.0</td>\n",
       "      <td>220</td>\n",
       "      <td>11.0</td>\n",
       "      <td>2.136364</td>\n",
       "      <td>282.0</td>\n",
       "      <td>1</td>\n",
       "      <td>0</td>\n",
       "      <td>0</td>\n",
       "      <td>0</td>\n",
       "      <td>0</td>\n",
       "      <td>...</td>\n",
       "      <td>0.0</td>\n",
       "      <td>0.0</td>\n",
       "      <td>1.0</td>\n",
       "      <td>0.0</td>\n",
       "      <td>0.0</td>\n",
       "      <td>0.0</td>\n",
       "      <td>0.0</td>\n",
       "      <td>0.0</td>\n",
       "      <td>0.0</td>\n",
       "      <td>520</td>\n",
       "    </tr>\n",
       "    <tr>\n",
       "      <th>3</th>\n",
       "      <td>1075.0</td>\n",
       "      <td>220</td>\n",
       "      <td>11.5</td>\n",
       "      <td>3.886364</td>\n",
       "      <td>282.0</td>\n",
       "      <td>1</td>\n",
       "      <td>0</td>\n",
       "      <td>0</td>\n",
       "      <td>0</td>\n",
       "      <td>0</td>\n",
       "      <td>...</td>\n",
       "      <td>0.0</td>\n",
       "      <td>1.0</td>\n",
       "      <td>0.0</td>\n",
       "      <td>0.0</td>\n",
       "      <td>0.0</td>\n",
       "      <td>0.0</td>\n",
       "      <td>0.0</td>\n",
       "      <td>0.0</td>\n",
       "      <td>0.0</td>\n",
       "      <td>808</td>\n",
       "    </tr>\n",
       "    <tr>\n",
       "      <th>4</th>\n",
       "      <td>828.0</td>\n",
       "      <td>220</td>\n",
       "      <td>11.0</td>\n",
       "      <td>2.763636</td>\n",
       "      <td>202.0</td>\n",
       "      <td>1</td>\n",
       "      <td>0</td>\n",
       "      <td>0</td>\n",
       "      <td>0</td>\n",
       "      <td>0</td>\n",
       "      <td>...</td>\n",
       "      <td>0.0</td>\n",
       "      <td>1.0</td>\n",
       "      <td>0.0</td>\n",
       "      <td>0.0</td>\n",
       "      <td>0.0</td>\n",
       "      <td>0.0</td>\n",
       "      <td>0.0</td>\n",
       "      <td>0.0</td>\n",
       "      <td>0.0</td>\n",
       "      <td>2153</td>\n",
       "    </tr>\n",
       "  </tbody>\n",
       "</table>\n",
       "<p>5 rows × 33 columns</p>\n",
       "</div>"
      ],
      "text/plain": [
       "   Sale Price  Retail Price  Shoe Size  Price_Percentage_change  \\\n",
       "0      1097.0           220       11.0                 3.986364   \n",
       "1       685.0           220       11.0                 2.113636   \n",
       "2       690.0           220       11.0                 2.136364   \n",
       "3      1075.0           220       11.5                 3.886364   \n",
       "4       828.0           220       11.0                 2.763636   \n",
       "\n",
       "   Days_Since_Release  yeezy  airjordan  airforce  airmax90  airmax97  ...  \\\n",
       "0               342.0      1          0         0         0         0  ...   \n",
       "1               282.0      1          0         0         0         0  ...   \n",
       "2               282.0      1          0         0         0         0  ...   \n",
       "3               282.0      1          0         0         0         0  ...   \n",
       "4               202.0      1          0         0         0         0  ...   \n",
       "\n",
       "   Grey  Red  Green  Neo  Orange  Tan/Brown  Pink  Blue  Colorful  \\\n",
       "0   1.0  0.0    0.0  0.0     1.0        0.0   0.0   0.0       0.0   \n",
       "1   0.0  0.0    0.0  0.0     1.0        0.0   0.0   0.0       0.0   \n",
       "2   0.0  0.0    1.0  0.0     0.0        0.0   0.0   0.0       0.0   \n",
       "3   0.0  1.0    0.0  0.0     0.0        0.0   0.0   0.0       0.0   \n",
       "4   0.0  1.0    0.0  0.0     0.0        0.0   0.0   0.0       0.0   \n",
       "\n",
       "   Number of Sales  \n",
       "0             1857  \n",
       "1              560  \n",
       "2              520  \n",
       "3              808  \n",
       "4             2153  \n",
       "\n",
       "[5 rows x 33 columns]"
      ]
     },
     "execution_count": 4,
     "metadata": {},
     "output_type": "execute_result"
    }
   ],
   "source": [
    "stockx_data.head()"
   ]
  },
  {
   "cell_type": "markdown",
   "metadata": {},
   "source": [
    "### Make Training and Testing Data"
   ]
  },
  {
   "cell_type": "code",
   "execution_count": 5,
   "metadata": {},
   "outputs": [],
   "source": [
    "#import the train-test split\n",
    "from sklearn.model_selection import train_test_split"
   ]
  },
  {
   "cell_type": "code",
   "execution_count": 6,
   "metadata": {},
   "outputs": [],
   "source": [
    "x = stockx_data.drop(['Price_Percentage_change'], axis=1)\n",
    "y = stockx_data['Price_Percentage_change']"
   ]
  },
  {
   "cell_type": "code",
   "execution_count": 7,
   "metadata": {},
   "outputs": [],
   "source": [
    "#divide into train and test sets\n",
    "train_x,test_x,train_y,test_y = train_test_split(x,y, random_state = 101)"
   ]
  },
  {
   "cell_type": "code",
   "execution_count": 8,
   "metadata": {},
   "outputs": [],
   "source": [
    "from sklearn.metrics import mean_squared_error as mse"
   ]
  },
  {
   "cell_type": "markdown",
   "metadata": {},
   "source": [
    "### 1. Adaboost Regressor"
   ]
  },
  {
   "cell_type": "code",
   "execution_count": 9,
   "metadata": {},
   "outputs": [],
   "source": [
    "from sklearn.ensemble import AdaBoostRegressor"
   ]
  },
  {
   "cell_type": "code",
   "execution_count": 10,
   "metadata": {},
   "outputs": [],
   "source": [
    "#creating an AdaBoost instance\n",
    "clf = AdaBoostRegressor(random_state=101)\n",
    "#training the model\n",
    "clf.fit(train_x,train_y)\n",
    "pred_train=clf.predict(train_x)\n",
    "pred_test=clf.predict(test_x)"
   ]
  },
  {
   "cell_type": "code",
   "execution_count": 11,
   "metadata": {},
   "outputs": [
    {
     "name": "stdout",
     "output_type": "stream",
     "text": [
      "Training error: 0.4312209872015135\n",
      "Testing error: 0.43301937863192247\n"
     ]
    }
   ],
   "source": [
    "rmse_train = np.sqrt(mse(train_y, pred_train))\n",
    "rmse_test = np.sqrt(mse(test_y, pred_test))\n",
    "\n",
    "print('Training error:',rmse_train)\n",
    "print('Testing error:', rmse_test)"
   ]
  },
  {
   "cell_type": "code",
   "execution_count": 12,
   "metadata": {},
   "outputs": [
    {
     "name": "stdout",
     "output_type": "stream",
     "text": [
      "R-squared (R2) score: 0.918261726652488\n"
     ]
    }
   ],
   "source": [
    "r2 = r2_score(test_y, pred_test)\n",
    "print(f'R-squared (R2) score: {r2}')"
   ]
  },
  {
   "cell_type": "markdown",
   "metadata": {},
   "source": [
    "## 2. Tuned Adaboost Regressor"
   ]
  },
  {
   "cell_type": "code",
   "execution_count": 13,
   "metadata": {},
   "outputs": [],
   "source": [
    "from sklearn.tree import DecisionTreeRegressor as dt"
   ]
  },
  {
   "cell_type": "code",
   "execution_count": 14,
   "metadata": {},
   "outputs": [],
   "source": [
    "clf_tuned = AdaBoostRegressor(random_state=96, base_estimator=dt(random_state=101,criterion='squared_error',max_depth=4,max_leaf_nodes=15,min_samples_split=30),n_estimators=200,learning_rate=0.05)"
   ]
  },
  {
   "cell_type": "code",
   "execution_count": 15,
   "metadata": {},
   "outputs": [
    {
     "name": "stderr",
     "output_type": "stream",
     "text": [
      "C:\\Users\\Lenovo\\anaconda3\\lib\\site-packages\\sklearn\\ensemble\\_base.py:156: FutureWarning: `base_estimator` was renamed to `estimator` in version 1.2 and will be removed in 1.4.\n",
      "  warnings.warn(\n"
     ]
    }
   ],
   "source": [
    "\n",
    "clf_tuned.fit(train_x,train_y)\n",
    "pred_train=clf_tuned.predict(train_x)\n",
    "pred_test=clf_tuned.predict(test_x)"
   ]
  },
  {
   "cell_type": "code",
   "execution_count": 16,
   "metadata": {},
   "outputs": [
    {
     "name": "stdout",
     "output_type": "stream",
     "text": [
      "Training error: 0.17883609331902042\n",
      "Testing error: 0.18208941576577498\n"
     ]
    }
   ],
   "source": [
    "rmse_train = np.sqrt(mse(train_y, pred_train))\n",
    "rmse_test = np.sqrt(mse(test_y, pred_test))\n",
    "\n",
    "print('Training error:',rmse_train)\n",
    "print('Testing error:', rmse_test)"
   ]
  },
  {
   "cell_type": "code",
   "execution_count": 17,
   "metadata": {},
   "outputs": [
    {
     "name": "stdout",
     "output_type": "stream",
     "text": [
      "R-squared (R2) score: 0.9855462612921865\n"
     ]
    }
   ],
   "source": [
    "r2 = r2_score(test_y, pred_test)\n",
    "print(f'R-squared (R2) score: {r2}')"
   ]
  },
  {
   "cell_type": "markdown",
   "metadata": {},
   "source": [
    "## 3. Gradient Boosting Regressor"
   ]
  },
  {
   "cell_type": "code",
   "execution_count": 18,
   "metadata": {},
   "outputs": [],
   "source": [
    "from sklearn.ensemble import GradientBoostingRegressor"
   ]
  },
  {
   "cell_type": "code",
   "execution_count": 19,
   "metadata": {},
   "outputs": [],
   "source": [
    "#creating an GradientBoost instance\n",
    "grb = GradientBoostingRegressor(random_state=101)\n",
    "#training the model\n",
    "grb.fit(train_x,train_y)\n",
    "pred_train=grb.predict(train_x)\n",
    "pred_test=grb.predict(test_x)"
   ]
  },
  {
   "cell_type": "code",
   "execution_count": 21,
   "metadata": {},
   "outputs": [
    {
     "name": "stdout",
     "output_type": "stream",
     "text": [
      "Training error: 0.042280386395123076\n",
      "Testing error: 0.04553751693811797\n"
     ]
    }
   ],
   "source": [
    "rmse_train = np.sqrt(mse(train_y, pred_train))\n",
    "rmse_test = np.sqrt(mse(test_y, pred_test))\n",
    "\n",
    "print('Training error:',rmse_train)\n",
    "print('Testing error:', rmse_test)"
   ]
  },
  {
   "cell_type": "code",
   "execution_count": 22,
   "metadata": {},
   "outputs": [
    {
     "name": "stdout",
     "output_type": "stream",
     "text": [
      "R-squared (R2) score: 0.9990960394328116\n"
     ]
    }
   ],
   "source": [
    "r2 = r2_score(test_y, pred_test)\n",
    "print(f'R-squared (R2) score: {r2}')"
   ]
  },
  {
   "cell_type": "markdown",
   "metadata": {},
   "source": [
    "## 4. XGBoost Regressor"
   ]
  },
  {
   "cell_type": "code",
   "execution_count": 23,
   "metadata": {},
   "outputs": [
    {
     "name": "stdout",
     "output_type": "stream",
     "text": [
      "Collecting xgboostNote: you may need to restart the kernel to use updated packages.\n",
      "  Downloading xgboost-2.0.2-py3-none-win_amd64.whl (99.8 MB)\n",
      "Requirement already satisfied: numpy in c:\\users\\lenovo\\anaconda3\\lib\\site-packages (from xgboost) (1.19.2)\n",
      "Requirement already satisfied: scipy in c:\\users\\lenovo\\anaconda3\\lib\\site-packages (from xgboost) (1.5.2)\n",
      "Installing collected packages: xgboost\n",
      "\n",
      "Successfully installed xgboost-2.0.2\n"
     ]
    }
   ],
   "source": [
    "pip install xgboost"
   ]
  },
  {
   "cell_type": "code",
   "execution_count": 23,
   "metadata": {},
   "outputs": [],
   "source": [
    "import xgboost as xg"
   ]
  },
  {
   "cell_type": "code",
   "execution_count": 24,
   "metadata": {},
   "outputs": [],
   "source": [
    "#creating an XGBoost instance\n",
    "xgb = xg.XGBRegressor(random_state=101)\n",
    "#training the model\n",
    "xgb.fit(train_x,train_y)\n",
    "pred_train=xgb.predict(train_x)\n",
    "pred_test=xgb.predict(test_x)"
   ]
  },
  {
   "cell_type": "code",
   "execution_count": 25,
   "metadata": {},
   "outputs": [
    {
     "name": "stdout",
     "output_type": "stream",
     "text": [
      "Training error: 0.03337850983939101\n",
      "Testing error: 0.07666956383496436\n"
     ]
    }
   ],
   "source": [
    "rmse_train = np.sqrt(mse(train_y, pred_train))\n",
    "rmse_test = np.sqrt(mse(test_y, pred_test))\n",
    "\n",
    "print('Training error:',rmse_train)\n",
    "print('Testing error:', rmse_test)"
   ]
  },
  {
   "cell_type": "code",
   "execution_count": 26,
   "metadata": {},
   "outputs": [
    {
     "name": "stdout",
     "output_type": "stream",
     "text": [
      "R-squared (R2) score: 0.997437541859571\n"
     ]
    }
   ],
   "source": [
    "r2 = r2_score(test_y, pred_test)\n",
    "print(f'R-squared (R2) score: {r2}')"
   ]
  },
  {
   "cell_type": "markdown",
   "metadata": {},
   "source": [
    "## Summary"
   ]
  },
  {
   "attachments": {
    "image-3.png": {
     "image/png": "[encoded data removed]"
    }
   },
   "cell_type": "markdown",
   "metadata": {},
   "source": [
    "![image-3.png](attachment:image-3.png)"
   ]
  },
  {
   "cell_type": "markdown",
   "metadata": {},
   "source": [
    "## Conclusion :\n",
    "**Gradient Boost and Xgboost are doing better even without Hyperparameter Tuning. We can use Gradient Boost Regressor as Testing Error is least i.e it performs the best on  unseen Data**"
   ]
  },
  {
   "cell_type": "code",
   "execution_count": null,
   "metadata": {},
   "outputs": [],
   "source": []
  }
 ],
 "metadata": {
  "kernelspec": {
   "display_name": "Python 3",
   "language": "python",
   "name": "python3"
  },
  "language_info": {
   "codemirror_mode": {
    "name": "ipython",
    "version": 3
   },
   "file_extension": ".py",
   "mimetype": "text/x-python",
   "name": "python",
   "nbconvert_exporter": "python",
   "pygments_lexer": "ipython3",
   "version": "3.8.5"
  }
 },
 "nbformat": 4,
 "nbformat_minor": 4
}
